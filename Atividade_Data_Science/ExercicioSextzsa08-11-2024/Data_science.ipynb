{
 "cells": [
  {
   "cell_type": "code",
   "execution_count": 6,
   "metadata": {},
   "outputs": [
    {
     "name": "stdout",
     "output_type": "stream",
     "text": [
      "                      db-id control_id                 invite_id Tipo Produto  \\\n",
      "0  620a60fc8e6c63645ad9ca1f     HNFX8D  620a608ab0d07664995bd771       Tipo 1   \n",
      "1  620a6118a152566455632067     DN40ZZ  620a6088b0d07664995b80e0       Tipo 1   \n",
      "2  620a61668e6c63645ad9cb7d     JQMNS6  620a6089b0d07664995bb9b8       Tipo 1   \n",
      "3  620a616f6c698d64297cf7cd     XWHPG9  620a608bb0d07664995c01d3       Tipo 1   \n",
      "4  620a62c66c698d64297d0446     SJV5N6  620a6089b0d07664995bbd1c       Tipo 1   \n",
      "\n",
      "  Grupo de Produto Familia do Produto Modelo do Produto Chassi do Produto  \\\n",
      "0          Grupo 1          Familia 1        Modelo 116          Chassi 1   \n",
      "1          Grupo 1          Familia 2        Modelo 120          Chassi 2   \n",
      "2          Grupo 1          Familia 3        Modelo 118          Chassi 3   \n",
      "3          Grupo 1          Familia 4         Modelo 80          Chassi 1   \n",
      "4          Grupo 2          Familia 5        Modelo 110          Chassi 5   \n",
      "\n",
      "  Marca do Produto           nome  ...  \\\n",
      "0          Marca 1   Cliente 9864  ...   \n",
      "1          Marca 1   Cliente 9469  ...   \n",
      "2          Marca 1  Cliente 13088  ...   \n",
      "3          Marca 2   Cliente 1244  ...   \n",
      "4          Marca 1   Cliente 8654  ...   \n",
      "\n",
      "  ¿cómo evalúa la comodidad y la ergonomía de su <modelo> (considere, por ejemplo, la comodidad de los asientos, la visibilidad de la cabina, la comprensibilidad y la disposición de los controles)? (csat)  \\\n",
      "0                                                NaN                                                                                                                                                           \n",
      "1                                                NaN                                                                                                                                                           \n",
      "2                                                NaN                                                                                                                                                           \n",
      "3                                                NaN                                                                                                                                                           \n",
      "4                                                NaN                                                                                                                                                           \n",
      "\n",
      "  ¿ha tenido algún problema con la confiabilidad/calidad en el que necesitaba comunicarse con su distribuidor? (like/dislike)  \\\n",
      "0                                                NaN                                                                            \n",
      "1                                                NaN                                                                            \n",
      "2                                                NaN                                                                            \n",
      "3                                                NaN                                                                            \n",
      "4                                                NaN                                                                            \n",
      "\n",
      "  ¿el problema que tuvo afectó su capacidad para trabajar o le impidió trabajar? (like/dislike)  \\\n",
      "0                                                NaN                                              \n",
      "1                                                NaN                                              \n",
      "2                                                NaN                                              \n",
      "3                                                NaN                                              \n",
      "4                                                NaN                                              \n",
      "\n",
      "  ¿hubo algún problema que requirió llevar el equipo <modelo> para mantenimiento? (like/dislike)  \\\n",
      "0                                                NaN                                               \n",
      "1                                                NaN                                               \n",
      "2                                                NaN                                               \n",
      "3                                                NaN                                               \n",
      "4                                                NaN                                               \n",
      "\n",
      "   ¿se ha resuelto el problema? (like/dislike)  \\\n",
      "0                                          NaN   \n",
      "1                                          NaN   \n",
      "2                                          NaN   \n",
      "3                                          NaN   \n",
      "4                                          NaN   \n",
      "\n",
      "  você pode explicar que tipo de falhas afetaram o sistema elétrico? (like/dislike)  \\\n",
      "0                                                NaN                                  \n",
      "1                                                NaN                                  \n",
      "2                                                NaN                                  \n",
      "3                                                NaN                                  \n",
      "4                                                NaN                                  \n",
      "\n",
      "  ¿hubo alguna falla que afectó el sistema eléctrico (batería, alternador, interruptores, cableado y arranque, conexiones)? (like/dislike)  \\\n",
      "0                                                NaN                                                                                         \n",
      "1                                                NaN                                                                                         \n",
      "2                                                NaN                                                                                         \n",
      "3                                                NaN                                                                                         \n",
      "4                                                NaN                                                                                         \n",
      "\n",
      "  p3 - como você avalia a qualidade e a confiabilidade do seu <modelo> (considere o acabamento e a aparência da sua máquina, falhas, problemas de confiabilidade ou avarias que você possa ter tido)? (csat)  \\\n",
      "0                                                NaN                                                                                                                                                           \n",
      "1                                                NaN                                                                                                                                                           \n",
      "2                                                NaN                                                                                                                                                           \n",
      "3                                                NaN                                                                                                                                                           \n",
      "4                                                NaN                                                                                                                                                           \n",
      "\n",
      "     reacao        tag_de_tratativa  \n",
      "0  positivo                     NaN  \n",
      "1       NaN                     NaN  \n",
      "2       NaN                     NaN  \n",
      "3       NaN                     NaN  \n",
      "4  positivo  TCO - Custo do Produto  \n",
      "\n",
      "[5 rows x 150 columns]\n"
     ]
    }
   ],
   "source": [
    "import pandas as pd\n",
    "\n",
    "\n",
    "df = pd.read_excel('Dados.xlsx', engine='openpyxl')\n",
    "\n",
    "\n",
    "print(df.head())\n"
   ]
  },
  {
   "cell_type": "code",
   "execution_count": 9,
   "metadata": {},
   "outputs": [
    {
     "name": "stdout",
     "output_type": "stream",
     "text": [
      "Empty DataFrame\n",
      "Columns: [db-id, control_id, invite_id, Tipo Produto, Grupo de Produto, Familia do Produto, Modelo do Produto, Chassi do Produto, Marca do Produto, nome, EmaiL_Alias, canal, metrica, Periodo de Pesquisa, nota, data_resposta, data_do_convite, categorias, data_entrega, estado, versao, mercado, Concessionaria_Alias, data_fabricacao, planta, capacidade operacional (hectares por hora) (csat), adequação as diversas operações e implementos (csat), facilidade de operação (csat), conforto e ergonomia (csat), disponibilidade e confiabilidade mecânica  (csat), facilidade para realização de manutenções (csat), custo de manutenção (csat), consumo de combustível (litros por hectares) (csat), adaptabilidade as mais diversas condições de trabalho (csat), facilidade de uso do piloto automático (csat), geração e transmissão de dados para gestão da frota (csat), geração e transmissão de dados para gestão agrícola (csat), autonomia de plantio (capacidade das caixas de sementes) (csat), autonomia de plantio (capacidade das caixas de fertilizantes) (csat), qualidade de plantio (csat), compatibilidade com diversos modelos de tratores (csat), vida útil dos materiais de desgaste (csat), adaptabilidade as mais diversas condições de plantio (csat), segurança na operação e manutenção da máquina (csat), nível de tecnologia em agricultura digital (csat), facilidade de transporte (csat), opcionais disponíveis (csat), facilidade do sistema de corte e/ou taxa (csat), desempenho do sistema de corte e/ou taxa (csat), acompanhamento do relevo (csat), capacidade operacional (sacas ou litros por hora) (csat), autonomia de colheita (capacidade do tanque graneleiro) (csat), autonomia de colheita (velocidade de descarga) (csat), eficiência de derriça na colheita plena (1 passada) (csat), eficiência de derriça na colheita seletiva (2 ou mais passadas) (csat), danos a planta (csat), índice de perdas de grãos no chão (csat), índice de impureza (limpeza do café colhido) (csat), conforto  (csat), ergonomia (csat), disponibilidade mecânica  (csat), confiabilidade mecânica (csat), consumo de combustível (somente para a c.e. 200) (csat), adaptabilidade as mais diversas condições de colheita (csat), facilidade de uso do piloto automático e sistemas de mapeamento (csat), geração e transmissão de mapas de colheita (csat), autonomia de aplicação (capacidade do tanque de produto/defensivos) (csat), qualidade de aplicação (csat), conforto (csat), disponibilidade mecânica (csat), vida útil de componentes (csat), facilidade de uso dos sistemas de aplicação e corte de seções (csat), desempenho dos sistemas de controle de aplicação e corte de seções (csat), capacidade operacional (ton ou hectares ou sacas por hora) (csat), índice de perdas (% ou kg ou sacas por hectare) (csat), qualidade do grão colhido (csat), compactação do solo (csat), disponibilidade mecânica e confiabilidade (csat), consumo de combustível (litros por tonelada) (csat), adaptabilidade aos tipos de grãos colhidos (csat), capacidade operacional (ton por hora) (csat), indice de perdas (% ou ton por hectare) (csat), danos na soqueira (csat), índice de impureza vegetal (%) (csat), índice de impureza mineral (%) (csat), indice de perdas (% ou kg ou sacas por hectare) (csat), você está satisfeito com a qualidade do produto (like/dislike), o senhor gostaria de receber um retorno sobre sua reclamação/sugestão? (like/dislike), consumo de óleo hidráulico (csat), ergonomia (ao operar o equipamento não sinto dores por postura e não preciso fazer muito esforço) (csat), conforto e ergonomia (ao operar o equipamento não sinto dores por postura e não preciso fazer muito esforço) (csat), ¿está satisfecho con la calidad del producto? (like/dislike), capacidad operativa (hectáreas por hora) (csat), idoneidad para diferentes operaciones e implementos (csat), facilidad de operación (csat), disponibilidad mecánica y fiabilidad (csat), facilidad para realizar el mantenimiento. (csat), costo de mantenimiento (csat), consumo de combustible (litros por hectárea) (csat), adaptabilidad a las más diversas condiciones de trabajo (csat), ...]\n",
      "Index: []\n",
      "\n",
      "[0 rows x 150 columns]\n"
     ]
    }
   ],
   "source": [
    "# Passo 1: Filtrando o DataFrame para o Grupo 6\n",
    "df_grupo6 = df.loc[df['Grupo de Produto'] == 'Grupo 6']\n",
    "\n",
    "# Passo 2: Filtrando o DataFrame do Grupo 6 para o mercado Brasil\n",
    "df_grupo6_brasil = df_grupo6.loc[df_grupo6['mercado'] == 'Brasil']\n",
    "\n",
    "# Exibindo as primeiras linhas do DataFrame filtrado\n",
    "print(df_grupo6_brasil.head())\n"
   ]
  },
  {
   "cell_type": "code",
   "execution_count": 12,
   "metadata": {},
   "outputs": [],
   "source": [
    "import pandas as pd\n",
    "\n",
    "def classify_score(score):\n",
    "    \"\"\"Classifica o score entre Promotor, Neutro e Detrator.\"\"\"\n",
    "    if score >= 9:\n",
    "        return 'Promotor'\n",
    "    elif score >= 7:\n",
    "        return 'Neutro'\n",
    "    else:\n",
    "        return 'Detrator'\n"
   ]
  },
  {
   "cell_type": "code",
   "execution_count": 10,
   "metadata": {},
   "outputs": [
    {
     "name": "stdout",
     "output_type": "stream",
     "text": [
      "['BRASIL' 'ARGENTINA' 'IMPORTADO' '**' 'IM' 'LAI']\n"
     ]
    }
   ],
   "source": [
    "# Verificando todos os valores únicos na coluna 'mercado'\n",
    "print(df['mercado'].unique())\n"
   ]
  },
  {
   "cell_type": "code",
   "execution_count": 11,
   "metadata": {},
   "outputs": [
    {
     "name": "stdout",
     "output_type": "stream",
     "text": [
      "                      db-id control_id                 invite_id Tipo Produto  \\\n",
      "0  620a60fc8e6c63645ad9ca1f     HNFX8D  620a608ab0d07664995bd771       Tipo 1   \n",
      "1  620a6118a152566455632067     DN40ZZ  620a6088b0d07664995b80e0       Tipo 1   \n",
      "3  620a616f6c698d64297cf7cd     XWHPG9  620a608bb0d07664995c01d3       Tipo 1   \n",
      "5  620a62f66c698d64297d04f3     Y9AQKK  620a6088b0d07664995b8cb7       Tipo 1   \n",
      "6  620a62fcedc9bb646d52e7b7     RAB7QY  620a608ab0d07664995bfd26       Tipo 1   \n",
      "\n",
      "  Grupo de Produto Familia do Produto Modelo do Produto Chassi do Produto  \\\n",
      "0          Grupo 1          Familia 1        Modelo 116          Chassi 1   \n",
      "1          Grupo 1          Familia 2        Modelo 120          Chassi 2   \n",
      "3          Grupo 1          Familia 4         Modelo 80          Chassi 1   \n",
      "5          Grupo 1          Familia 2        Modelo 121          Chassi 1   \n",
      "6          Grupo 2          Familia 6        Modelo 108          Chassi 1   \n",
      "\n",
      "  Marca do Produto          nome  ...  \\\n",
      "0          Marca 1  Cliente 9864  ...   \n",
      "1          Marca 1  Cliente 9469  ...   \n",
      "3          Marca 2  Cliente 1244  ...   \n",
      "5          Marca 1  Cliente 1244  ...   \n",
      "6          Marca 1  Cliente 1244  ...   \n",
      "\n",
      "  ¿cómo evalúa la comodidad y la ergonomía de su <modelo> (considere, por ejemplo, la comodidad de los asientos, la visibilidad de la cabina, la comprensibilidad y la disposición de los controles)? (csat)  \\\n",
      "0                                                NaN                                                                                                                                                           \n",
      "1                                                NaN                                                                                                                                                           \n",
      "3                                                NaN                                                                                                                                                           \n",
      "5                                                NaN                                                                                                                                                           \n",
      "6                                                NaN                                                                                                                                                           \n",
      "\n",
      "  ¿ha tenido algún problema con la confiabilidad/calidad en el que necesitaba comunicarse con su distribuidor? (like/dislike)  \\\n",
      "0                                                NaN                                                                            \n",
      "1                                                NaN                                                                            \n",
      "3                                                NaN                                                                            \n",
      "5                                                NaN                                                                            \n",
      "6                                                NaN                                                                            \n",
      "\n",
      "  ¿el problema que tuvo afectó su capacidad para trabajar o le impidió trabajar? (like/dislike)  \\\n",
      "0                                                NaN                                              \n",
      "1                                                NaN                                              \n",
      "3                                                NaN                                              \n",
      "5                                                NaN                                              \n",
      "6                                                NaN                                              \n",
      "\n",
      "  ¿hubo algún problema que requirió llevar el equipo <modelo> para mantenimiento? (like/dislike)  \\\n",
      "0                                                NaN                                               \n",
      "1                                                NaN                                               \n",
      "3                                                NaN                                               \n",
      "5                                                NaN                                               \n",
      "6                                                NaN                                               \n",
      "\n",
      "   ¿se ha resuelto el problema? (like/dislike)  \\\n",
      "0                                          NaN   \n",
      "1                                          NaN   \n",
      "3                                          NaN   \n",
      "5                                          NaN   \n",
      "6                                          NaN   \n",
      "\n",
      "  você pode explicar que tipo de falhas afetaram o sistema elétrico? (like/dislike)  \\\n",
      "0                                                NaN                                  \n",
      "1                                                NaN                                  \n",
      "3                                                NaN                                  \n",
      "5                                                NaN                                  \n",
      "6                                                NaN                                  \n",
      "\n",
      "  ¿hubo alguna falla que afectó el sistema eléctrico (batería, alternador, interruptores, cableado y arranque, conexiones)? (like/dislike)  \\\n",
      "0                                                NaN                                                                                         \n",
      "1                                                NaN                                                                                         \n",
      "3                                                NaN                                                                                         \n",
      "5                                                NaN                                                                                         \n",
      "6                                                NaN                                                                                         \n",
      "\n",
      "  p3 - como você avalia a qualidade e a confiabilidade do seu <modelo> (considere o acabamento e a aparência da sua máquina, falhas, problemas de confiabilidade ou avarias que você possa ter tido)? (csat)  \\\n",
      "0                                                NaN                                                                                                                                                           \n",
      "1                                                NaN                                                                                                                                                           \n",
      "3                                                NaN                                                                                                                                                           \n",
      "5                                                NaN                                                                                                                                                           \n",
      "6                                                NaN                                                                                                                                                           \n",
      "\n",
      "     reacao                                   tag_de_tratativa  \n",
      "0  positivo                                                NaN  \n",
      "1       NaN                                                NaN  \n",
      "3       NaN                                                NaN  \n",
      "5    neutro  CPM - Elétrico, CPM - Motor, TCO - Consumo de ...  \n",
      "6       NaN                                                NaN  \n",
      "\n",
      "[5 rows x 150 columns]\n"
     ]
    }
   ],
   "source": [
    "# Filtrando para o mercado Brasil\n",
    "df_brasil = df.loc[df['mercado'] == 'BRASIL']\n",
    "\n",
    "# Exibindo as primeiras linhas do DataFrame filtrado\n",
    "print(df_brasil.head())\n"
   ]
  },
  {
   "cell_type": "code",
   "execution_count": 33,
   "metadata": {},
   "outputs": [
    {
     "name": "stdout",
     "output_type": "stream",
     "text": [
      "['capacidade operacional (hectares por hora) (csat)', 'adequação as diversas operações e implementos (csat)', 'facilidade de operação (csat)', 'conforto e ergonomia (csat)', 'disponibilidade e confiabilidade mecânica (csat)', 'facilidade para realização de manutenções (csat)', 'custo de manutenção (csat)', 'consumo de combustível (litros por hectares) (csat)', 'adaptabilidade as mais diversas condições de trabalho (csat)', 'facilidade de uso do piloto automático (csat)', 'geração e transmissão de dados para gestão da frota (csat)', 'geração e transmissão de dados para gestão agrícola (csat)', 'autonomia de plantio (capacidade das caixas de sementes) (csat)', 'autonomia de plantio (capacidade das caixas de fertilizantes) (csat)', 'qualidade de plantio (csat)', 'compatibilidade com diversos modelos de tratores (csat)', 'vida útil dos materiais de desgaste (csat)', 'adaptabilidade as mais diversas condições de plantio (csat)', 'segurança na operação e manutenção da máquina (csat)', 'nível de tecnologia em agricultura digital (csat)', 'facilidade de transporte (csat)', 'opcionais disponíveis (csat)', 'facilidade do sistema de corte e/ou taxa (csat)', 'desempenho do sistema de corte e/ou taxa (csat)', 'acompanhamento do relevo (csat)', 'capacidade operacional (sacas ou litros por hora) (csat)', 'autonomia de colheita (capacidade do tanque graneleiro) (csat)', 'autonomia de colheita (velocidade de descarga) (csat)', 'eficiência de derriça na colheita plena (1 passada) (csat)', 'eficiência de derriça na colheita seletiva (2 ou mais passadas) (csat)', 'danos a planta (csat)', 'índice de perdas de grãos no chão (csat)', 'índice de impureza (limpeza do café colhido) (csat)', 'conforto  (csat)', 'ergonomia (csat)', 'disponibilidade mecânica  (csat)', 'confiabilidade mecânica (csat)', 'consumo de combustível (somente para a c.e. 200) (csat)', 'adaptabilidade as mais diversas condições de colheita (csat)', 'facilidade de uso do piloto automático e sistemas de mapeamento (csat)', 'geração e transmissão de mapas de colheita (csat)', 'autonomia de aplicação (capacidade do tanque de produto/defensivos) (csat)', 'qualidade de aplicação (csat)', 'conforto (csat)', 'disponibilidade mecânica (csat)', 'vida útil de componentes (csat)', 'facilidade de uso dos sistemas de aplicação e corte de seções (csat)', 'desempenho dos sistemas de controle de aplicação e corte de seções (csat)', 'capacidade operacional (ton ou hectares ou sacas por hora) (csat)', 'índice de perdas (% ou kg ou sacas por hectare) (csat)', 'qualidade do grão colhido (csat)', 'compactação do solo (csat)', 'disponibilidade mecânica e confiabilidade (csat)', 'consumo de combustível (litros por tonelada) (csat)', 'adaptabilidade aos tipos de grãos colhidos (csat)', 'capacidade operacional (ton por hora) (csat)', 'indice de perdas (% ou ton por hectare) (csat)', 'danos na soqueira (csat)', 'índice de impureza vegetal (%) (csat)', 'índice de impureza mineral (%) (csat)', 'indice de perdas (% ou kg ou sacas por hectare) (csat)', 'você está satisfeito com a qualidade do produto (like/dislike)', 'o senhor gostaria de receber um retorno sobre sua reclamação/sugestão? (like/dislike)', 'consumo de óleo hidráulico (csat)', 'ergonomia (ao operar o equipamento não sinto dores por postura e não preciso fazer muito esforço) (csat)', 'conforto e ergonomia (ao operar o equipamento não sinto dores por postura e não preciso fazer muito esforço) (csat)', '¿está satisfecho con la calidad del producto? (like/dislike)', 'capacidad operativa (hectáreas por hora) (csat)', 'idoneidad para diferentes operaciones e implementos (csat)', 'facilidad de operación (csat)', 'disponibilidad mecánica y fiabilidad (csat)', 'facilidad para realizar el mantenimiento. (csat)', 'costo de mantenimiento (csat)', 'consumo de combustible (litros por hectárea) (csat)', 'adaptabilidad a las más diversas condiciones de trabajo (csat)', 'facilidad de uso del piloto automático (csat)', 'generación y transmisión de datos para la gestión de flotas (csat)', 'generación y transmisión de datos para la gestión agrícola (csat)', '¿le gustaría recibir una respuesta sobre su queja/sugerencia? (like/dislike)', 'facilidad para realizar el mantenimiento (csat)', 'está satisfecho con la calidad del producto (like/dislike)', 'capacidad operativa (toneladas o hectáreas o sacos por hora) (csat)', 'autonomía de cosecha (capacidad del depósito de granos) (csat)', 'autonomía de cosecha (velocidad de descarga) (csat)', 'índice de pérdida (% o kg o sacos por hectárea) (csat)', 'calidad del grano cosechado (csat)', 'compactación del suelo (csat)', 'comodidad (csat)', 'ergonomía (csat)', 'consumo de combustible (litros por tonelada) (csat)', 'adaptabilidad a las más diversas condiciones de cosecha (csat)', 'adaptabilidad a los tipos de granos cosechados (csat)', 'facilidad de uso de los sistemas de mapas y piloto automático (csat)', 'generación y transmisión de mapas de cosecha (csat)', '¿le gustaría recibir comentarios sobre su queja/sugerencia? (like/dislike)', '¿podría facilitarnos el mejor correo electrónico para realizar la devolución? (input)', 'seleciona o problema ou oportunidade no maquinario (multiple)', 'de acordo com seu problema ou oportunidade de melhoria, selecione as opções abaixo: (multiple)', 'você está satisfeito com a qualidade do produto (multiple)', 'como você avalia a qualidade e a confiabilidade do seu <modelo> (considere o acabamento e a aparência da sua máquina, falhas, problemas de confiabilidade ou avarias que você possa ter tido)? (csat)', 'nesse período você teve algum problema de materiais, vazamentos, acabamento ou montagem? (multiple)', 'nesse período você teve alguma falha técnica? (multiple)', 'teve alguma falha que afetou o sistema elétrico? (like/dislike)', 'agora, considere características específicas do seu <modelo>, como você avalia seu desempenho (csat)', 'como você avalia o conforto e a ergonomia do seu <modelo>  (considere, por exemplo, o conforto do assento, a visibilidade da cabine, a compreensão e o layout dos controles)? (csat)', 'você teve algum problema com confiabilidade/qualidade onde precisou entrar em contato com seu revendedor? (like/dislike)', 'o problema que você teve afetou sua capacidade de trabalhar ou o impediu de trabalhar? (like/dislike)', 'teve algum problema que precisou levar o equipamanto <modelo> para manutenção? (like/dislike)', 'o problema foi resolvido? (like/dislike)', 'nesse período você teve algum problema de materiais, vazamentos, acabamento ou montagem? (csat)', '¿está satisfecho con la calidad del producto? (csat)', '¿durante este período tuvo algún problema con materiales, filtraciones, acabados o montaje? (multiple)', '¿tuviste alguna falla técnica durante este período? (multiple)', '¿hubo alguna falla que afectó el sistema eléctrico? (like/dislike)', 'ahora considere las características específicas de su <modelo> mientras evalúa su desempeño. (csat)', '¿cómo evalúa la comodidad y la ergonomía de su <modelo> (considere, por ejemplo, la comodidad de los asientos, la visibilidad de la cabina, la comprensibilidad y la disposición de los controles)? (csat)', '¿ha tenido algún problema con la confiabilidad/calidad en el que necesitaba comunicarse con su distribuidor? (like/dislike)', '¿el problema que tuvo afectó su capacidad para trabajar o le impidió trabajar? (like/dislike)', '¿hubo algún problema que requirió llevar el equipo <modelo> para mantenimiento? (like/dislike)', '¿se ha resuelto el problema? (like/dislike)', 'você pode explicar que tipo de falhas afetaram o sistema elétrico? (like/dislike)', '¿hubo alguna falla que afectó el sistema eléctrico (batería, alternador, interruptores, cableado y arranque, conexiones)? (like/dislike)', 'p3 - como você avalia a qualidade e a confiabilidade do seu <modelo> (considere o acabamento e a aparência da sua máquina, falhas, problemas de confiabilidade ou avarias que você possa ter tido)? (csat)', 'reacao', 'tag_de_tratativa', 'capacidade operacional (hectares por hora) (csat)_categoria', 'adequação as diversas operações e implementos (csat)_categoria', 'facilidade de operação (csat)_categoria', 'conforto e ergonomia (csat)_categoria']\n"
     ]
    }
   ],
   "source": [
    "# Selecionando colunas que terminam com \"(csat)\" ou \"(multiple)\"\n",
    "# Exibir os nomes das colunas no DataFrame\n",
    "print(df.columns.tolist())\n",
    "\n",
    "\n"
   ]
  },
  {
   "cell_type": "code",
   "execution_count": 31,
   "metadata": {},
   "outputs": [
    {
     "ename": "KeyError",
     "evalue": "\"['¿tuviste alguna falla técnica en este período? (multiple)', '¿tuvo alguna falla que afectó el sistema eléctrico? (like/dislike)', '¿tuvo alguna falla en el sistema hidráulico? (like/dislike)', '¿tuvo alguna falla que le impidió trabajar o que generó algún riesgo para su operación? (like/dislike)', '¿tuvo alguna falla que necesitó llevar el equipo al servicio técnico? (like/dislike)', '¿la falla fue resuelta? (like/dislike)', '¿podría facilitarnos el mejor correo electrónico para la devolución? (input)'] not in index\"",
     "output_type": "error",
     "traceback": [
      "\u001b[1;31m---------------------------------------------------------------------------\u001b[0m",
      "\u001b[1;31mKeyError\u001b[0m                                  Traceback (most recent call last)",
      "\u001b[1;32mc:\\Users\\autologon\\Desktop\\Atividade_Data_Science\\Data_science.ipynb Cell 7\u001b[0m line \u001b[0;36m7\n\u001b[0;32m      <a href='vscode-notebook-cell:/c%3A/Users/autologon/Desktop/Atividade_Data_Science/Data_science.ipynb#W6sZmlsZQ%3D%3D?line=3'>4</a>\u001b[0m csat_columns \u001b[39m=\u001b[39m [\n\u001b[0;32m      <a href='vscode-notebook-cell:/c%3A/Users/autologon/Desktop/Atividade_Data_Science/Data_science.ipynb#W6sZmlsZQ%3D%3D?line=4'>5</a>\u001b[0m     \u001b[39m'\u001b[39m\u001b[39mcapacidade operacional (hectares por hora) (csat)\u001b[39m\u001b[39m'\u001b[39m, \u001b[39m'\u001b[39m\u001b[39madequação as diversas operações e implementos (csat)\u001b[39m\u001b[39m'\u001b[39m, \u001b[39m'\u001b[39m\u001b[39mfacilidade de operação (csat)\u001b[39m\u001b[39m'\u001b[39m, \n\u001b[0;32m      <a href='vscode-notebook-cell:/c%3A/Users/autologon/Desktop/Atividade_Data_Science/Data_science.ipynb#W6sZmlsZQ%3D%3D?line=5'>6</a>\u001b[0m     \u001b[39m'\u001b[39m\u001b[39mconforto e ergonomia (csat)\u001b[39m\u001b[39m'\u001b[39m, \u001b[39m'\u001b[39m\u001b[39mdisponibilidade e confiabilidade mecânica (csat)\u001b[39m\u001b[39m'\u001b[39m, \u001b[39m'\u001b[39m\u001b[39mfacilidade para realização de manutenções (csat)\u001b[39m\u001b[39m'\u001b[39m, \n\u001b[1;32m   (...)\u001b[0m\n\u001b[0;32m     <a href='vscode-notebook-cell:/c%3A/Users/autologon/Desktop/Atividade_Data_Science/Data_science.ipynb#W6sZmlsZQ%3D%3D?line=65'>66</a>\u001b[0m     \u001b[39m'\u001b[39m\u001b[39m¿podría facilitarnos el mejor correo electrónico para la devolución? (input)\u001b[39m\u001b[39m'\u001b[39m\n\u001b[0;32m     <a href='vscode-notebook-cell:/c%3A/Users/autologon/Desktop/Atividade_Data_Science/Data_science.ipynb#W6sZmlsZQ%3D%3D?line=66'>67</a>\u001b[0m ]\n\u001b[0;32m     <a href='vscode-notebook-cell:/c%3A/Users/autologon/Desktop/Atividade_Data_Science/Data_science.ipynb#W6sZmlsZQ%3D%3D?line=68'>69</a>\u001b[0m \u001b[39m# Calcular a média para cada coluna 'csat'\u001b[39;00m\n\u001b[1;32m---> <a href='vscode-notebook-cell:/c%3A/Users/autologon/Desktop/Atividade_Data_Science/Data_science.ipynb#W6sZmlsZQ%3D%3D?line=69'>70</a>\u001b[0m average_csat \u001b[39m=\u001b[39m df[csat_columns]\u001b[39m.\u001b[39mmean()\n\u001b[0;32m     <a href='vscode-notebook-cell:/c%3A/Users/autologon/Desktop/Atividade_Data_Science/Data_science.ipynb#W6sZmlsZQ%3D%3D?line=71'>72</a>\u001b[0m \u001b[39m# Exibir as médias de satisfação\u001b[39;00m\n\u001b[0;32m     <a href='vscode-notebook-cell:/c%3A/Users/autologon/Desktop/Atividade_Data_Science/Data_science.ipynb#W6sZmlsZQ%3D%3D?line=72'>73</a>\u001b[0m \u001b[39mprint\u001b[39m(\u001b[39m\"\u001b[39m\u001b[39mMédia de Satisfação (csat) para cada coluna:\u001b[39m\u001b[39m\"\u001b[39m)\n",
      "File \u001b[1;32mc:\\Python311\\Lib\\site-packages\\pandas\\core\\frame.py:4108\u001b[0m, in \u001b[0;36mDataFrame.__getitem__\u001b[1;34m(self, key)\u001b[0m\n\u001b[0;32m   4106\u001b[0m     \u001b[39mif\u001b[39;00m is_iterator(key):\n\u001b[0;32m   4107\u001b[0m         key \u001b[39m=\u001b[39m \u001b[39mlist\u001b[39m(key)\n\u001b[1;32m-> 4108\u001b[0m     indexer \u001b[39m=\u001b[39m \u001b[39mself\u001b[39;49m\u001b[39m.\u001b[39;49mcolumns\u001b[39m.\u001b[39;49m_get_indexer_strict(key, \u001b[39m\"\u001b[39;49m\u001b[39mcolumns\u001b[39;49m\u001b[39m\"\u001b[39;49m)[\u001b[39m1\u001b[39m]\n\u001b[0;32m   4110\u001b[0m \u001b[39m# take() does not accept boolean indexers\u001b[39;00m\n\u001b[0;32m   4111\u001b[0m \u001b[39mif\u001b[39;00m \u001b[39mgetattr\u001b[39m(indexer, \u001b[39m\"\u001b[39m\u001b[39mdtype\u001b[39m\u001b[39m\"\u001b[39m, \u001b[39mNone\u001b[39;00m) \u001b[39m==\u001b[39m \u001b[39mbool\u001b[39m:\n",
      "File \u001b[1;32mc:\\Python311\\Lib\\site-packages\\pandas\\core\\indexes\\base.py:6200\u001b[0m, in \u001b[0;36mIndex._get_indexer_strict\u001b[1;34m(self, key, axis_name)\u001b[0m\n\u001b[0;32m   6197\u001b[0m \u001b[39melse\u001b[39;00m:\n\u001b[0;32m   6198\u001b[0m     keyarr, indexer, new_indexer \u001b[39m=\u001b[39m \u001b[39mself\u001b[39m\u001b[39m.\u001b[39m_reindex_non_unique(keyarr)\n\u001b[1;32m-> 6200\u001b[0m \u001b[39mself\u001b[39;49m\u001b[39m.\u001b[39;49m_raise_if_missing(keyarr, indexer, axis_name)\n\u001b[0;32m   6202\u001b[0m keyarr \u001b[39m=\u001b[39m \u001b[39mself\u001b[39m\u001b[39m.\u001b[39mtake(indexer)\n\u001b[0;32m   6203\u001b[0m \u001b[39mif\u001b[39;00m \u001b[39misinstance\u001b[39m(key, Index):\n\u001b[0;32m   6204\u001b[0m     \u001b[39m# GH 42790 - Preserve name from an Index\u001b[39;00m\n",
      "File \u001b[1;32mc:\\Python311\\Lib\\site-packages\\pandas\\core\\indexes\\base.py:6252\u001b[0m, in \u001b[0;36mIndex._raise_if_missing\u001b[1;34m(self, key, indexer, axis_name)\u001b[0m\n\u001b[0;32m   6249\u001b[0m     \u001b[39mraise\u001b[39;00m \u001b[39mKeyError\u001b[39;00m(\u001b[39mf\u001b[39m\u001b[39m\"\u001b[39m\u001b[39mNone of [\u001b[39m\u001b[39m{\u001b[39;00mkey\u001b[39m}\u001b[39;00m\u001b[39m] are in the [\u001b[39m\u001b[39m{\u001b[39;00maxis_name\u001b[39m}\u001b[39;00m\u001b[39m]\u001b[39m\u001b[39m\"\u001b[39m)\n\u001b[0;32m   6251\u001b[0m not_found \u001b[39m=\u001b[39m \u001b[39mlist\u001b[39m(ensure_index(key)[missing_mask\u001b[39m.\u001b[39mnonzero()[\u001b[39m0\u001b[39m]]\u001b[39m.\u001b[39munique())\n\u001b[1;32m-> 6252\u001b[0m \u001b[39mraise\u001b[39;00m \u001b[39mKeyError\u001b[39;00m(\u001b[39mf\u001b[39m\u001b[39m\"\u001b[39m\u001b[39m{\u001b[39;00mnot_found\u001b[39m}\u001b[39;00m\u001b[39m not in index\u001b[39m\u001b[39m\"\u001b[39m)\n",
      "\u001b[1;31mKeyError\u001b[0m: \"['¿tuviste alguna falla técnica en este período? (multiple)', '¿tuvo alguna falla que afectó el sistema eléctrico? (like/dislike)', '¿tuvo alguna falla en el sistema hidráulico? (like/dislike)', '¿tuvo alguna falla que le impidió trabajar o que generó algún riesgo para su operación? (like/dislike)', '¿tuvo alguna falla que necesitó llevar el equipo al servicio técnico? (like/dislike)', '¿la falla fue resuelta? (like/dislike)', '¿podría facilitarnos el mejor correo electrónico para la devolución? (input)'] not in index\""
     ]
    }
   ],
   "source": [
    "import pandas as pd\n",
    "\n",
    "# Lista das colunas fornecida\n",
    "csat_columns = [\n",
    "    'capacidade operacional (hectares por hora) (csat)', 'adequação as diversas operações e implementos (csat)', 'facilidade de operação (csat)', \n",
    "    'conforto e ergonomia (csat)', 'disponibilidade e confiabilidade mecânica (csat)', 'facilidade para realização de manutenções (csat)', \n",
    "    'custo de manutenção (csat)', 'consumo de combustível (litros por hectares) (csat)', 'adaptabilidade as mais diversas condições de trabalho (csat)', \n",
    "    'facilidade de uso do piloto automático (csat)', 'geração e transmissão de dados para gestão da frota (csat)', \n",
    "    'geração e transmissão de dados para gestão agrícola (csat)', 'autonomia de plantio (capacidade das caixas de sementes) (csat)', \n",
    "    'autonomia de plantio (capacidade das caixas de fertilizantes) (csat)', 'qualidade de plantio (csat)', \n",
    "    'compatibilidade com diversos modelos de tratores (csat)', 'vida útil dos materiais de desgaste (csat)', \n",
    "    'adaptabilidade as mais diversas condições de plantio (csat)', 'segurança na operação e manutenção da máquina (csat)', \n",
    "    'nível de tecnologia em agricultura digital (csat)', 'facilidade de transporte (csat)', 'opcionais disponíveis (csat)', \n",
    "    'facilidade do sistema de corte e/ou taxa (csat)', 'desempenho do sistema de corte e/ou taxa (csat)', \n",
    "    'acompanhamento do relevo (csat)', 'capacidade operacional (sacas ou litros por hora) (csat)', \n",
    "    'autonomia de colheita (capacidade do tanque graneleiro) (csat)', 'autonomia de colheita (velocidade de descarga) (csat)', \n",
    "    'eficiência de derriça na colheita plena (1 passada) (csat)', 'eficiência de derriça na colheita seletiva (2 ou mais passadas) (csat)', \n",
    "    'danos a planta (csat)', 'índice de perdas de grãos no chão (csat)', 'índice de impureza (limpeza do café colhido) (csat)', \n",
    "    'conforto  (csat)', 'ergonomia (csat)', 'disponibilidade mecânica  (csat)', 'confiabilidade mecânica (csat)', \n",
    "    'consumo de combustível (somente para a c.e. 200) (csat)', 'adaptabilidade as mais diversas condições de colheita (csat)', \n",
    "    'facilidade de uso do piloto automático e sistemas de mapeamento (csat)', 'geração e transmissão de mapas de colheita (csat)', \n",
    "    'autonomia de aplicação (capacidade do tanque de produto/defensivos) (csat)', 'qualidade de aplicação (csat)', \n",
    "    'conforto (csat)', 'disponibilidade mecânica (csat)', 'vida útil de componentes (csat)', \n",
    "    'facilidade de uso dos sistemas de aplicação e corte de seções (csat)', \n",
    "    'desempenho dos sistemas de controle de aplicação e corte de seções (csat)', \n",
    "    'capacidade operacional (ton ou hectares ou sacas por hora) (csat)', 'índice de perdas (% ou kg ou sacas por hectare) (csat)', \n",
    "    'qualidade do grão colhido (csat)', 'compactação do solo (csat)', 'disponibilidade mecânica e confiabilidade (csat)', \n",
    "    'consumo de combustível (litros por tonelada) (csat)', 'adaptabilidade aos tipos de grãos colhidos (csat)', \n",
    "    'capacidade operacional (ton por hora) (csat)', 'indice de perdas (% ou ton por hectare) (csat)', \n",
    "    'danos na soqueira (csat)', 'índice de impureza vegetal (%) (csat)', 'índice de impureza mineral (%) (csat)', \n",
    "    'indice de perdas (% ou kg ou sacas por hectare) (csat)', 'você está satisfeito com a qualidade do produto (like/dislike)', \n",
    "    'o senhor gostaria de receber um retorno sobre sua reclamação/sugestão? (like/dislike)', 'consumo de óleo hidráulico (csat)', \n",
    "    'ergonomia (ao operar o equipamento não sinto dores por postura e não preciso fazer muito esforço) (csat)', \n",
    "    'conforto e ergonomia (ao operar o equipamento não sinto dores por postura e não preciso fazer muito esforço) (csat)', \n",
    "    '¿está satisfecho con la calidad del producto? (like/dislike)', 'capacidad operativa (hectáreas por hora) (csat)', \n",
    "    'idoneidad para diferentes operaciones e implementos (csat)', 'facilidad de operación (csat)', \n",
    "    'disponibilidad mecánica y fiabilidad (csat)', 'facilidad para realizar el mantenimiento. (csat)', \n",
    "    'costo de mantenimiento (csat)', 'consumo de combustible (litros por hectárea) (csat)', \n",
    "    'adaptabilidad a las más diversas condiciones de trabajo (csat)', 'facilidad de uso del piloto automático (csat)', \n",
    "    'generación y transmisión de datos para la gestión de flotas (csat)', \n",
    "    'generación y transmisión de datos para la gestión agrícola (csat)', '¿le gustaría recibir una respuesta sobre su queja/sugerencia? (like/dislike)', \n",
    "    'facilidad para realizar el mantenimiento (csat)', 'está satisfecho con la calidad del producto (like/dislike)', \n",
    "    'capacidad operativa (toneladas o hectáreas o sacos por hora) (csat)', 'autonomía de cosecha (capacidad del depósito de granos) (csat)', \n",
    "    'autonomía de cosecha (velocidad de descarga) (csat)', 'índice de pérdida (% o kg o sacos por hectárea) (csat)', \n",
    "    'calidad del grano cosechado (csat)', 'compactación del suelo (csat)', 'comodidad (csat)', 'ergonomía (csat)', \n",
    "    'consumo de combustible (litros por tonelada) (csat)', 'adaptabilidad a las más diversas condiciones de cosecha (csat)', \n",
    "    'adaptabilidad a los tipos de granos cosechados (csat)', 'facilidad de uso de los sistemas de mapas y piloto automático (csat)', \n",
    "    'generación y transmisión de mapas de cosecha (csat)', '¿le gustaría recibir comentarios sobre su queja/sugerencia? (like/dislike)', \n",
    "    '¿podría facilitarnos el mejor correo electrónico para realizar la devolución? (input)', \n",
    "    'seleciona o problema ou oportunidade no maquinario (multiple)', 'de acordo com seu problema ou oportunidade de melhoria, selecione as opções abaixo: (multiple)', \n",
    "    'você está satisfeito com a qualidade do produto (multiple)', \n",
    "    'como você avalia a qualidade e a confiabilidade do seu <modelo> (considere o acabamento e a aparência da sua máquina, falhas, problemas de confiabilidade ou avarias que você possa ter tido)? (csat)', \n",
    "    'nesse período você teve algum problema de materiais, vazamentos, acabamento ou montagem? (multiple)', \n",
    "    'nesse período você teve alguma falha técnica? (multiple)', 'teve alguma falha que afetou o sistema elétrico? (like/dislike)', \n",
    "    'agora, considere características específicas do seu <modelo>, como você avalia seu desempenho (csat)', \n",
    "    'como você avalia o conforto e a ergonomia do seu <modelo>  (considere, por exemplo, o conforto do assento, a visibilidade da cabine, a compreensão e o layout dos controles)? (csat)', \n",
    "    'você teve algum problema com confiabilidade/qualidade onde precisou entrar em contato com seu revendedor? (like/dislike)', \n",
    "    'o problema que você teve afetou sua capacidade de trabalhar ou o impediu de trabalhar? (like/dislike)', \n",
    "    'teve algum problema que precisou levar o equipamanto <modelo> para manutenção? (like/dislike)', \n",
    "    'o problema foi resolvido? (like/dislike)', 'nesse período você teve algum problema de materiais, vazamentos, acabamento ou montagem? (csat)', \n",
    "    '¿está satisfecho con la calidad del producto? (csat)', '¿durante este período tuvo algún problema con materiales, filtraciones, acabados o montaje? (multiple)', \n",
    "    '¿tuviste alguna falla técnica en este período? (multiple)', '¿tuvo alguna falla que afectó el sistema eléctrico? (like/dislike)', \n",
    "    '¿tuvo alguna falla en el sistema hidráulico? (like/dislike)', '¿tuvo alguna falla que le impidió trabajar o que generó algún riesgo para su operación? (like/dislike)', \n",
    "    '¿tuvo alguna falla que necesitó llevar el equipo al servicio técnico? (like/dislike)', '¿la falla fue resuelta? (like/dislike)', \n",
    "    '¿le gustaría recibir comentarios sobre su queja/sugerencia? (like/dislike)', \n",
    "    '¿podría facilitarnos el mejor correo electrónico para la devolución? (input)'\n",
    "]\n",
    "\n",
    "# Calcular a média para cada coluna 'csat'\n",
    "average_csat = df[csat_columns].mean()\n",
    "\n",
    "# Exibir as médias de satisfação\n",
    "print(\"Média de Satisfação (csat) para cada coluna:\")\n",
    "print(average_csat)\n"
   ]
  },
  {
   "cell_type": "code",
   "execution_count": 25,
   "metadata": {},
   "outputs": [
    {
     "name": "stdout",
     "output_type": "stream",
     "text": [
      "Média de Satisfação (csat) por coluna:\n",
      "capacidade operacional (hectares por hora) (csat)                                                                                                                                                             NaN\n",
      "adequação as diversas operações e implementos (csat)                                                                                                                                                          NaN\n",
      "facilidade de operação (csat)                                                                                                                                                                                 NaN\n",
      "conforto e ergonomia (csat)                                                                                                                                                                                   NaN\n",
      "disponibilidade e confiabilidade mecânica (csat)                                                                                                                                                              NaN\n",
      "                                                                                                                                                                                                             ... \n",
      "p3 - como você avalia a qualidade e a confiabilidade do seu <modelo> (considere o acabamento e a aparência da sua máquina, falhas, problemas de confiabilidade ou avarias que você possa ter tido)? (csat)    NaN\n",
      "capacidade operacional (hectares por hora) (csat)_categoria                                                                                                                                                   NaN\n",
      "adequação as diversas operações e implementos (csat)_categoria                                                                                                                                                NaN\n",
      "facilidade de operação (csat)_categoria                                                                                                                                                                       NaN\n",
      "conforto e ergonomia (csat)_categoria                                                                                                                                                                         NaN\n",
      "Length: 101, dtype: object\n",
      "Distribuição das notas de satisfação (csat):\n",
      "Empty DataFrame\n",
      "Columns: [capacidade operacional (hectares por hora) (csat), adequação as diversas operações e implementos (csat), facilidade de operação (csat), conforto e ergonomia (csat), disponibilidade e confiabilidade mecânica (csat), facilidade para realização de manutenções (csat), custo de manutenção (csat), consumo de combustível (litros por hectares) (csat), adaptabilidade as mais diversas condições de trabalho (csat), facilidade de uso do piloto automático (csat), geração e transmissão de dados para gestão da frota (csat), geração e transmissão de dados para gestão agrícola (csat), autonomia de plantio (capacidade das caixas de sementes) (csat), autonomia de plantio (capacidade das caixas de fertilizantes) (csat), qualidade de plantio (csat), compatibilidade com diversos modelos de tratores (csat), vida útil dos materiais de desgaste (csat), adaptabilidade as mais diversas condições de plantio (csat), segurança na operação e manutenção da máquina (csat), nível de tecnologia em agricultura digital (csat), facilidade de transporte (csat), opcionais disponíveis (csat), facilidade do sistema de corte e/ou taxa (csat), desempenho do sistema de corte e/ou taxa (csat), acompanhamento do relevo (csat), capacidade operacional (sacas ou litros por hora) (csat), autonomia de colheita (capacidade do tanque graneleiro) (csat), autonomia de colheita (velocidade de descarga) (csat), eficiência de derriça na colheita plena (1 passada) (csat), eficiência de derriça na colheita seletiva (2 ou mais passadas) (csat), danos a planta (csat), índice de perdas de grãos no chão (csat), índice de impureza (limpeza do café colhido) (csat), conforto  (csat), ergonomia (csat), disponibilidade mecânica  (csat), confiabilidade mecânica (csat), consumo de combustível (somente para a c.e. 200) (csat), adaptabilidade as mais diversas condições de colheita (csat), facilidade de uso do piloto automático e sistemas de mapeamento (csat), geração e transmissão de mapas de colheita (csat), autonomia de aplicação (capacidade do tanque de produto/defensivos) (csat), qualidade de aplicação (csat), conforto (csat), disponibilidade mecânica (csat), vida útil de componentes (csat), facilidade de uso dos sistemas de aplicação e corte de seções (csat), desempenho dos sistemas de controle de aplicação e corte de seções (csat), capacidade operacional (ton ou hectares ou sacas por hora) (csat), índice de perdas (% ou kg ou sacas por hectare) (csat), qualidade do grão colhido (csat), compactação do solo (csat), disponibilidade mecânica e confiabilidade (csat), consumo de combustível (litros por tonelada) (csat), adaptabilidade aos tipos de grãos colhidos (csat), capacidade operacional (ton por hora) (csat), indice de perdas (% ou ton por hectare) (csat), danos na soqueira (csat), índice de impureza vegetal (%) (csat), índice de impureza mineral (%) (csat), indice de perdas (% ou kg ou sacas por hectare) (csat), consumo de óleo hidráulico (csat), ergonomia (ao operar o equipamento não sinto dores por postura e não preciso fazer muito esforço) (csat), conforto e ergonomia (ao operar o equipamento não sinto dores por postura e não preciso fazer muito esforço) (csat), capacidad operativa (hectáreas por hora) (csat), idoneidad para diferentes operaciones e implementos (csat), facilidad de operación (csat), disponibilidad mecánica y fiabilidad (csat), facilidad para realizar el mantenimiento. (csat), costo de mantenimiento (csat), consumo de combustible (litros por hectárea) (csat), adaptabilidad a las más diversas condiciones de trabajo (csat), facilidad de uso del piloto automático (csat), generación y transmisión de datos para la gestión de flotas (csat), generación y transmisión de datos para la gestión agrícola (csat), facilidad para realizar el mantenimiento (csat), capacidad operativa (toneladas o hectáreas o sacos por hora) (csat), autonomía de cosecha (capacidad del depósito de granos) (csat), autonomía de cosecha (velocidad de descarga) (csat), índice de pérdida (% o kg o sacos por hectárea) (csat), calidad del grano cosechado (csat), compactación del suelo (csat), comodidad (csat), ergonomía (csat), consumo de combustible (litros por tonelada) (csat), adaptabilidad a las más diversas condiciones de cosecha (csat), adaptabilidad a los tipos de granos cosechados (csat), facilidad de uso de los sistemas de mapas y piloto automático (csat), generación y transmisión de mapas de cosecha (csat), como você avalia a qualidade e a confiabilidade do seu <modelo> (considere o acabamento e a aparência da sua máquina, falhas, problemas de confiabilidade ou avarias que você possa ter tido)? (csat), agora, considere características específicas do seu <modelo>, como você avalia seu desempenho (csat), como você avalia o conforto e a ergonomia do seu <modelo>  (considere, por exemplo, o conforto do assento, a visibilidade da cabine, a compreensão e o layout dos controles)? (csat), nesse período você teve algum problema de materiais, vazamentos, acabamento ou montagem? (csat), ¿está satisfecho con la calidad del producto? (csat), ahora considere las características específicas de su <modelo> mientras evalúa su desempeño. (csat), ¿cómo evalúa la comodidad y la ergonomía de su <modelo> (considere, por ejemplo, la comodidad de los asientos, la visibilidad de la cabina, la comprensibilidad y la disposición de los controles)? (csat), p3 - como você avalia a qualidade e a confiabilidade do seu <modelo> (considere o acabamento e a aparência da sua máquina, falhas, problemas de confiabilidade ou avarias que você possa ter tido)? (csat), capacidade operacional (hectares por hora) (csat)_categoria, adequação as diversas operações e implementos (csat)_categoria, facilidade de operação (csat)_categoria, ...]\n",
      "Index: []\n",
      "\n",
      "[0 rows x 101 columns]\n"
     ]
    }
   ],
   "source": [
    "import pandas as pd\n",
    "\n",
    "# Suponha que o DataFrame seja chamado df e já tenha as colunas filtradas\n",
    "# Primeiro, selecione as colunas csat\n",
    "csat_columns = [col for col in df.columns if '(csat)' in col]\n",
    "\n",
    "# Calcular a média de satisfação para cada coluna csat\n",
    "average_csat = df[csat_columns].mean()\n",
    "\n",
    "# Exibir a média de cada coluna csat\n",
    "print(\"Média de Satisfação (csat) por coluna:\")\n",
    "print(average_csat)\n",
    "\n",
    "# Caso você queira visualizar a distribuição das notas (por exemplo, de 1 a 5), pode usar:\n",
    "distribuicao = df[csat_columns].apply(lambda x: x.value_counts()).fillna(0)\n",
    "print(\"Distribuição das notas de satisfação (csat):\")\n",
    "print(distribuicao)\n"
   ]
  },
  {
   "cell_type": "code",
   "execution_count": 29,
   "metadata": {},
   "outputs": [
    {
     "name": "stdout",
     "output_type": "stream",
     "text": [
      "Média de Satisfação (csat) por coluna:\n",
      "capacidade operacional (hectares por hora) (csat)                                                                                                                                                             NaN\n",
      "adequação as diversas operações e implementos (csat)                                                                                                                                                          NaN\n",
      "facilidade de operação (csat)                                                                                                                                                                                 NaN\n",
      "conforto e ergonomia (csat)                                                                                                                                                                                   NaN\n",
      "disponibilidade e confiabilidade mecânica (csat)                                                                                                                                                              NaN\n",
      "                                                                                                                                                                                                             ... \n",
      "p3 - como você avalia a qualidade e a confiabilidade do seu <modelo> (considere o acabamento e a aparência da sua máquina, falhas, problemas de confiabilidade ou avarias que você possa ter tido)? (csat)    NaN\n",
      "capacidade operacional (hectares por hora) (csat)_categoria                                                                                                                                                   NaN\n",
      "adequação as diversas operações e implementos (csat)_categoria                                                                                                                                                NaN\n",
      "facilidade de operação (csat)_categoria                                                                                                                                                                       NaN\n",
      "conforto e ergonomia (csat)_categoria                                                                                                                                                                         NaN\n",
      "Length: 101, dtype: object\n"
     ]
    }
   ],
   "source": [
    "# Supondo que o DataFrame seja chamado df\n",
    "# Filtrando todas as colunas csat diretamente\n",
    "csat_columns = [col for col in df.columns if '(csat)' in col]\n",
    "\n",
    "# Calcular a média de satisfação para cada coluna csat\n",
    "average_csat = df[csat_columns].mean()\n",
    "\n",
    "# Exibir a média de cada coluna csat\n",
    "print(\"Média de Satisfação (csat) por coluna:\")\n",
    "print(average_csat)\n"
   ]
  },
  {
   "cell_type": "code",
   "execution_count": 30,
   "metadata": {},
   "outputs": [
    {
     "name": "stdout",
     "output_type": "stream",
     "text": [
      "Distribuição das notas de satisfação (csat):\n",
      "Empty DataFrame\n",
      "Columns: [capacidade operacional (hectares por hora) (csat), adequação as diversas operações e implementos (csat), facilidade de operação (csat), conforto e ergonomia (csat), disponibilidade e confiabilidade mecânica (csat), facilidade para realização de manutenções (csat), custo de manutenção (csat), consumo de combustível (litros por hectares) (csat), adaptabilidade as mais diversas condições de trabalho (csat), facilidade de uso do piloto automático (csat), geração e transmissão de dados para gestão da frota (csat), geração e transmissão de dados para gestão agrícola (csat), autonomia de plantio (capacidade das caixas de sementes) (csat), autonomia de plantio (capacidade das caixas de fertilizantes) (csat), qualidade de plantio (csat), compatibilidade com diversos modelos de tratores (csat), vida útil dos materiais de desgaste (csat), adaptabilidade as mais diversas condições de plantio (csat), segurança na operação e manutenção da máquina (csat), nível de tecnologia em agricultura digital (csat), facilidade de transporte (csat), opcionais disponíveis (csat), facilidade do sistema de corte e/ou taxa (csat), desempenho do sistema de corte e/ou taxa (csat), acompanhamento do relevo (csat), capacidade operacional (sacas ou litros por hora) (csat), autonomia de colheita (capacidade do tanque graneleiro) (csat), autonomia de colheita (velocidade de descarga) (csat), eficiência de derriça na colheita plena (1 passada) (csat), eficiência de derriça na colheita seletiva (2 ou mais passadas) (csat), danos a planta (csat), índice de perdas de grãos no chão (csat), índice de impureza (limpeza do café colhido) (csat), conforto  (csat), ergonomia (csat), disponibilidade mecânica  (csat), confiabilidade mecânica (csat), consumo de combustível (somente para a c.e. 200) (csat), adaptabilidade as mais diversas condições de colheita (csat), facilidade de uso do piloto automático e sistemas de mapeamento (csat), geração e transmissão de mapas de colheita (csat), autonomia de aplicação (capacidade do tanque de produto/defensivos) (csat), qualidade de aplicação (csat), conforto (csat), disponibilidade mecânica (csat), vida útil de componentes (csat), facilidade de uso dos sistemas de aplicação e corte de seções (csat), desempenho dos sistemas de controle de aplicação e corte de seções (csat), capacidade operacional (ton ou hectares ou sacas por hora) (csat), índice de perdas (% ou kg ou sacas por hectare) (csat), qualidade do grão colhido (csat), compactação do solo (csat), disponibilidade mecânica e confiabilidade (csat), consumo de combustível (litros por tonelada) (csat), adaptabilidade aos tipos de grãos colhidos (csat), capacidade operacional (ton por hora) (csat), indice de perdas (% ou ton por hectare) (csat), danos na soqueira (csat), índice de impureza vegetal (%) (csat), índice de impureza mineral (%) (csat), indice de perdas (% ou kg ou sacas por hectare) (csat), consumo de óleo hidráulico (csat), ergonomia (ao operar o equipamento não sinto dores por postura e não preciso fazer muito esforço) (csat), conforto e ergonomia (ao operar o equipamento não sinto dores por postura e não preciso fazer muito esforço) (csat), capacidad operativa (hectáreas por hora) (csat), idoneidad para diferentes operaciones e implementos (csat), facilidad de operación (csat), disponibilidad mecánica y fiabilidad (csat), facilidad para realizar el mantenimiento. (csat), costo de mantenimiento (csat), consumo de combustible (litros por hectárea) (csat), adaptabilidad a las más diversas condiciones de trabajo (csat), facilidad de uso del piloto automático (csat), generación y transmisión de datos para la gestión de flotas (csat), generación y transmisión de datos para la gestión agrícola (csat), facilidad para realizar el mantenimiento (csat), capacidad operativa (toneladas o hectáreas o sacos por hora) (csat), autonomía de cosecha (capacidad del depósito de granos) (csat), autonomía de cosecha (velocidad de descarga) (csat), índice de pérdida (% o kg o sacos por hectárea) (csat), calidad del grano cosechado (csat), compactación del suelo (csat), comodidad (csat), ergonomía (csat), consumo de combustible (litros por tonelada) (csat), adaptabilidad a las más diversas condiciones de cosecha (csat), adaptabilidad a los tipos de granos cosechados (csat), facilidad de uso de los sistemas de mapas y piloto automático (csat), generación y transmisión de mapas de cosecha (csat), como você avalia a qualidade e a confiabilidade do seu <modelo> (considere o acabamento e a aparência da sua máquina, falhas, problemas de confiabilidade ou avarias que você possa ter tido)? (csat), agora, considere características específicas do seu <modelo>, como você avalia seu desempenho (csat), como você avalia o conforto e a ergonomia do seu <modelo>  (considere, por exemplo, o conforto do assento, a visibilidade da cabine, a compreensão e o layout dos controles)? (csat), nesse período você teve algum problema de materiais, vazamentos, acabamento ou montagem? (csat), ¿está satisfecho con la calidad del producto? (csat), ahora considere las características específicas de su <modelo> mientras evalúa su desempeño. (csat), ¿cómo evalúa la comodidad y la ergonomía de su <modelo> (considere, por ejemplo, la comodidad de los asientos, la visibilidad de la cabina, la comprensibilidad y la disposición de los controles)? (csat), p3 - como você avalia a qualidade e a confiabilidade do seu <modelo> (considere o acabamento e a aparência da sua máquina, falhas, problemas de confiabilidade ou avarias que você possa ter tido)? (csat), capacidade operacional (hectares por hora) (csat)_categoria, adequação as diversas operações e implementos (csat)_categoria, facilidade de operação (csat)_categoria, ...]\n",
      "Index: []\n",
      "\n",
      "[0 rows x 101 columns]\n"
     ]
    }
   ],
   "source": []
  },
  {
   "cell_type": "code",
   "execution_count": 28,
   "metadata": {},
   "outputs": [
    {
     "ename": "ModuleNotFoundError",
     "evalue": "No module named 'seaborn'",
     "output_type": "error",
     "traceback": [
      "\u001b[1;31m---------------------------------------------------------------------------\u001b[0m",
      "\u001b[1;31mModuleNotFoundError\u001b[0m                       Traceback (most recent call last)",
      "\u001b[1;32mc:\\Users\\autologon\\Desktop\\Atividade_Data_Science\\Data_science.ipynb Cell 11\u001b[0m line \u001b[0;36m5\n\u001b[0;32m      <a href='vscode-notebook-cell:/c%3A/Users/autologon/Desktop/Atividade_Data_Science/Data_science.ipynb#X13sZmlsZQ%3D%3D?line=1'>2</a>\u001b[0m correlation_matrix \u001b[39m=\u001b[39m df[csat_columns]\u001b[39m.\u001b[39mcorr()\n\u001b[0;32m      <a href='vscode-notebook-cell:/c%3A/Users/autologon/Desktop/Atividade_Data_Science/Data_science.ipynb#X13sZmlsZQ%3D%3D?line=3'>4</a>\u001b[0m \u001b[39m# Visualizando a correlação com um heatmap\u001b[39;00m\n\u001b[1;32m----> <a href='vscode-notebook-cell:/c%3A/Users/autologon/Desktop/Atividade_Data_Science/Data_science.ipynb#X13sZmlsZQ%3D%3D?line=4'>5</a>\u001b[0m \u001b[39mimport\u001b[39;00m \u001b[39mseaborn\u001b[39;00m \u001b[39mas\u001b[39;00m \u001b[39msns\u001b[39;00m\n\u001b[0;32m      <a href='vscode-notebook-cell:/c%3A/Users/autologon/Desktop/Atividade_Data_Science/Data_science.ipynb#X13sZmlsZQ%3D%3D?line=6'>7</a>\u001b[0m plt\u001b[39m.\u001b[39mfigure(figsize\u001b[39m=\u001b[39m(\u001b[39m12\u001b[39m, \u001b[39m8\u001b[39m))\n\u001b[0;32m      <a href='vscode-notebook-cell:/c%3A/Users/autologon/Desktop/Atividade_Data_Science/Data_science.ipynb#X13sZmlsZQ%3D%3D?line=7'>8</a>\u001b[0m sns\u001b[39m.\u001b[39mheatmap(correlation_matrix, annot\u001b[39m=\u001b[39m\u001b[39mTrue\u001b[39;00m, cmap\u001b[39m=\u001b[39m\u001b[39m'\u001b[39m\u001b[39mcoolwarm\u001b[39m\u001b[39m'\u001b[39m, fmt\u001b[39m=\u001b[39m\u001b[39m'\u001b[39m\u001b[39m.2f\u001b[39m\u001b[39m'\u001b[39m, linewidths\u001b[39m=\u001b[39m\u001b[39m0.5\u001b[39m)\n",
      "\u001b[1;31mModuleNotFoundError\u001b[0m: No module named 'seaborn'"
     ]
    }
   ],
   "source": [
    "# Matriz de correlação entre as colunas (csat)\n",
    "correlation_matrix = df[csat_columns].corr()\n",
    "\n",
    "# Visualizando a correlação com um heatmap\n",
    "import seaborn as sns\n",
    "\n",
    "plt.figure(figsize=(12, 8))\n",
    "sns.heatmap(correlation_matrix, annot=True, cmap='coolwarm', fmt='.2f', linewidths=0.5)\n",
    "plt.title(\"Correlação entre as colunas de Satisfação (csat)\")\n",
    "plt.show()\n"
   ]
  }
 ],
 "metadata": {
  "kernelspec": {
   "display_name": "Python 3",
   "language": "python",
   "name": "python3"
  },
  "language_info": {
   "codemirror_mode": {
    "name": "ipython",
    "version": 3
   },
   "file_extension": ".py",
   "mimetype": "text/x-python",
   "name": "python",
   "nbconvert_exporter": "python",
   "pygments_lexer": "ipython3",
   "version": "3.11.0"
  }
 },
 "nbformat": 4,
 "nbformat_minor": 2
}
